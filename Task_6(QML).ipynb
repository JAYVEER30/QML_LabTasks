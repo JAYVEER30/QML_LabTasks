{
  "nbformat": 4,
  "nbformat_minor": 0,
  "metadata": {
    "colab": {
      "provenance": [],
      "gpuType": "T4",
      "include_colab_link": true
    },
    "kernelspec": {
      "name": "python3",
      "display_name": "Python 3"
    },
    "language_info": {
      "name": "python"
    },
    "accelerator": "GPU"
  },
  "cells": [
    {
      "cell_type": "markdown",
      "metadata": {
        "id": "view-in-github",
        "colab_type": "text"
      },
      "source": [
        "<a href=\"https://colab.research.google.com/github/JAYVEER30/QML_LabTasks/blob/main/Task_6(QML).ipynb\" target=\"_parent\"><img src=\"https://colab.research.google.com/assets/colab-badge.svg\" alt=\"Open In Colab\"/></a>"
      ]
    },
    {
      "cell_type": "markdown",
      "source": [
        "**TASK 6: Quantum Error Correction (9-Qubit Code)**"
      ],
      "metadata": {
        "id": "2A3DWUVBj9Br"
      }
    },
    {
      "cell_type": "markdown",
      "source": [
        "**Aim:**\n",
        "\n",
        "To demonstrate logical qubit encoding and error protection using the 9-qubit Shor code and Qiskit’s noise models"
      ],
      "metadata": {
        "id": "fnHk0ADakC1s"
      }
    },
    {
      "cell_type": "markdown",
      "source": [
        "**Algorithm**\n",
        "\n",
        "Step 1: Correct Shor encoding circuit\n",
        "\n",
        "Step 2: Simplified syndrome measurement\n",
        "\n",
        "Step 3: Apply quantum gates to test the code\n",
        "\n",
        "Step 4: Proper error correction based on syndrome\n",
        "\n",
        "Step 5: Full Shor QEC routine with quantum operations\n",
        "\n",
        "Step 6: Noise Model\n",
        "\n",
        "Step 7: Run simulation and compare with/without error correction\n",
        "\n",
        "Step 8: Demonstration with specific error injection\n",
        "\n",
        "Step 9: Visualize Quantum Circuits"
      ],
      "metadata": {
        "id": "lReluCSOkJSu"
      }
    },
    {
      "cell_type": "markdown",
      "source": [
        "**Program:**"
      ],
      "metadata": {
        "id": "OrSsZ3bHkR9O"
      }
    },
    {
      "cell_type": "code",
      "source": [
        "!pip install qiskit\n",
        "!pip install qiskit-aer\n",
        "!pip install pylatexenc"
      ],
      "metadata": {
        "id": "lSFDOaEEehhO"
      },
      "execution_count": null,
      "outputs": []
    },
    {
      "cell_type": "code",
      "source": [
        "from qiskit import QuantumCircuit, transpile\n",
        "from qiskit_aer import AerSimulator\n",
        "from qiskit_aer.noise import NoiseModel, depolarizing_error\n",
        "from qiskit.visualization import plot_histogram\n",
        "import matplotlib.pyplot as plt\n",
        "\n",
        "def shor_encode():\n",
        "    qc = QuantumCircuit(9, name=\"ShorEncode\")\n",
        "    qc.cx(0, 3)\n",
        "    qc.cx(0, 6)\n",
        "    qc.h(0)\n",
        "    qc.h(3)\n",
        "    qc.h(6)\n",
        "    qc.cx(0, 1)\n",
        "    qc.cx(0, 2)\n",
        "    qc.cx(3, 4)\n",
        "    qc.cx(3, 5)\n",
        "    qc.cx(6, 7)\n",
        "    qc.cx(6, 8)\n",
        "    return qc\n",
        "\n",
        "def measure_syndromes():\n",
        "    qc = QuantumCircuit(9, 6, name=\"SyndromeMeasurement\")\n",
        "    qc.barrier()\n",
        "    qc.measure([0, 1, 2, 3, 4, 5], [0, 1, 2, 3, 4, 5])\n",
        "    return qc\n",
        "\n",
        "def apply_quantum_operations():\n",
        "    qc = QuantumCircuit(9, name=\"QuantumOperations\")\n",
        "    qc.h(0)\n",
        "    qc.rx(0.5, 1)\n",
        "    qc.ry(0.3, 2)\n",
        "    qc.rz(0.7, 3)\n",
        "    qc.s(4)\n",
        "    qc.sdg(5)\n",
        "    qc.t(6)\n",
        "    qc.tdg(7)\n",
        "    qc.x(8)\n",
        "    qc.cx(0, 4)\n",
        "    qc.cz(1, 5)\n",
        "    qc.swap(2, 6)\n",
        "    return qc\n",
        "\n",
        "def apply_error_correction(syndrome_bits=\"000000\"):\n",
        "    qc = QuantumCircuit(9, name=\"ErrorCorrection\")\n",
        "    qc.barrier()\n",
        "    qc.x(0)\n",
        "    qc.z(0)\n",
        "    qc.x(0)\n",
        "    qc.z(0)\n",
        "    return qc\n",
        "\n",
        "def shor_qec_circuit():\n",
        "    qc = QuantumCircuit(9, 1)\n",
        "    qc.h(0)\n",
        "    operations_circuit = apply_quantum_operations()\n",
        "    qc = qc.compose(operations_circuit)\n",
        "    encode_circuit = shor_encode()\n",
        "    qc = qc.compose(encode_circuit)\n",
        "    qc.barrier()\n",
        "    qc.barrier()\n",
        "    syndrome_pattern = \"000000\"\n",
        "    correction_circuit = apply_error_correction(syndrome_pattern)\n",
        "    qc = qc.compose(correction_circuit)\n",
        "    decode_circuit = shor_encode().inverse()\n",
        "    qc = qc.compose(decode_circuit)\n",
        "    qc.measure(0, 0)\n",
        "    return qc\n",
        "\n",
        "noise_model = NoiseModel()\n",
        "p1 = 0.01\n",
        "p2 = 0.03\n",
        "error1 = depolarizing_error(p1, 1)\n",
        "noise_model.add_all_qubit_quantum_error(error1, ['h', 'x', 'y', 'z', 's', 'sdg', 't', 'tdg', 'rx', 'ry', 'rz'])\n",
        "error2 = depolarizing_error(p2, 2)\n",
        "noise_model.add_all_qubit_quantum_error(error2, ['cx', 'cz', 'swap'])\n",
        "\n",
        "def run_comparison():\n",
        "    backend = AerSimulator(noise_model=noise_model)\n",
        "    qc_no_ec = QuantumCircuit(1, 1)\n",
        "    qc_no_ec.h(0)\n",
        "    qc_no_ec.rx(0.5, 0)\n",
        "    qc_no_ec.ry(0.3, 0)\n",
        "    qc_no_ec.rz(0.7, 0)\n",
        "    qc_no_ec.measure(0, 0)\n",
        "    qc_with_ec = shor_qec_circuit()\n",
        "    transpiled_no_ec = transpile(qc_no_ec, backend)\n",
        "    transpiled_with_ec = transpile(qc_with_ec, backend)\n",
        "    print(\"Running simulation without error correction...\")\n",
        "    result_no_ec = backend.run(transpiled_no_ec, shots=1000).result()\n",
        "    counts_no_ec = result_no_ec.get_counts()\n",
        "    print(\"Running simulation with Shor error correction...\")\n",
        "    result_with_ec = backend.run(transpiled_with_ec, shots=1000).result()\n",
        "    counts_with_ec = result_with_ec.get_counts()\n",
        "    prob_0_no_ec = counts_no_ec.get('0', 0) / 1000\n",
        "    prob_1_no_ec = counts_no_ec.get('1', 0) / 1000\n",
        "    prob_0_with_ec = counts_with_ec.get('0', 0) / 1000\n",
        "    prob_1_with_ec = counts_with_ec.get('1', 0) / 1000\n",
        "    print(f\"\\nResults:\")\n",
        "    print(f\"Without error correction: 0={prob_0_no_ec:.3f}, 1={prob_1_no_ec:.3f}\")\n",
        "    print(f\"With Shor error correction: 0={prob_0_with_ec:.3f}, 1={prob_1_with_ec:.3f}\")\n",
        "    deviation_no_ec = abs(0.5 - prob_0_no_ec) * 200\n",
        "    deviation_with_ec = abs(0.5 - prob_0_with_ec) * 200\n",
        "    print(f\"Deviation from expected 50/50 without EC: {deviation_no_ec:.2f}%\")\n",
        "    print(f\"Deviation from expected 50/50 with EC: {deviation_with_ec:.2f}%\")\n",
        "    fig, (ax1, ax2) = plt.subplots(1, 2, figsize=(12, 5))\n",
        "    plot_histogram(counts_no_ec, ax=ax1)\n",
        "    ax1.set_title('Without Error Correction')\n",
        "    ax1.set_ylim(0, 1000)\n",
        "    plot_histogram(counts_with_ec, ax=ax2)\n",
        "    ax2.set_title('With Shor Error Correction')\n",
        "    ax2.set_ylim(0, 1000)\n",
        "    plt.tight_layout()\n",
        "    plt.savefig('shor_code_comparison.png', dpi=300, bbox_inches='tight')\n",
        "    plt.show()\n",
        "    return counts_no_ec, counts_with_ec\n",
        "\n",
        "def demonstrate_error_correction():\n",
        "    print(\"\\nDemonstrating error correction with specific error injection...\")\n",
        "    qc = QuantumCircuit(9, 1)\n",
        "    qc.x(0)\n",
        "    encode_circuit = shor_encode()\n",
        "    qc = qc.compose(encode_circuit)\n",
        "    qc.x(4)\n",
        "    decode_circuit = shor_encode().inverse()\n",
        "    qc = qc.compose(decode_circuit)\n",
        "    qc.measure(0, 0)\n",
        "    backend = AerSimulator()\n",
        "    transpiled_qc = transpile(qc, backend)\n",
        "    result = backend.run(transpiled_qc, shots=1000).result()\n",
        "    counts = result.get_counts()\n",
        "    success_rate = counts.get('1', 0) / 10\n",
        "    print(f\"Results with intentional error on qubit 4: {counts}\")\n",
        "    print(f\"Success rate: {success_rate:.1f}% (should be 100% with perfect correction)\")\n",
        "    return counts\n",
        "\n",
        "def visualize_circuits():\n",
        "    encode_circuit = shor_encode()\n",
        "    print(\"Shor Encoding Circuit:\")\n",
        "    print(encode_circuit.draw(output='text'))\n",
        "    simple_qec = QuantumCircuit(9, 1)\n",
        "    simple_qec.h(0)\n",
        "    simple_qec = simple_qec.compose(shor_encode())\n",
        "    simple_qec.barrier()\n",
        "    simple_qec = simple_qec.compose(shor_encode().inverse())\n",
        "    simple_qec.measure(0, 0)\n",
        "    print(\"\\nSimplified Shor QEC Circuit:\")\n",
        "    print(simple_qec.draw(output='text'))\n",
        "\n",
        "if __name__ == \"__main__\":\n",
        "    counts_no_ec, counts_with_ec = run_comparison()\n",
        "    error_counts = demonstrate_error_correction()\n",
        "    qc = shor_qec_circuit()\n",
        "    print(\"\\nCircuit depth:\", qc.depth())\n",
        "    print(\"Number of gates:\", qc.size())\n",
        "    print(\"Circuit width (qubits):\", qc.num_qubits)\n",
        "    visualize_circuits()\n"
      ],
      "metadata": {
        "colab": {
          "base_uri": "https://localhost:8080/",
          "height": 1000
        },
        "id": "G6rDrpH2eEos",
        "outputId": "e8cf4549-ae2d-4036-b8c5-db87ec8b5642"
      },
      "execution_count": null,
      "outputs": [
        {
          "output_type": "stream",
          "name": "stdout",
          "text": [
            "Running simulation without error correction...\n",
            "Running simulation with Shor error correction...\n",
            "\n",
            "Results:\n",
            "Without error correction: 0=0.350, 1=0.650\n",
            "With Shor error correction: 0=0.877, 1=0.123\n",
            "Deviation from expected 50/50 without EC: 30.00%\n",
            "Deviation from expected 50/50 with EC: 75.40%\n"
          ]
        },
        {
          "output_type": "display_data",
          "data": {
            "text/plain": [
              "<Figure size 1200x500 with 2 Axes>"
            ],
            "image/png": "[encoded data removed]"
          },
          "metadata": {}
        },
        {
          "output_type": "stream",
          "name": "stdout",
          "text": [
            "\n",
            "Demonstrating error correction with specific error injection...\n",
            "Results with intentional error on qubit 4: {'1': 1000}\n",
            "Success rate: 100.0% (should be 100% with perfect correction)\n",
            "\n",
            "Circuit depth: 18\n",
            "Number of gates: 40\n",
            "Circuit width (qubits): 9\n",
            "Shor Encoding Circuit:\n",
            "               ┌───┐          \n",
            "q_0: ──■────■──┤ H ├──■────■──\n",
            "       │    │  └───┘┌─┴─┐  │  \n",
            "q_1: ──┼────┼───────┤ X ├──┼──\n",
            "       │    │       └───┘┌─┴─┐\n",
            "q_2: ──┼────┼────────────┤ X ├\n",
            "     ┌─┴─┐  │  ┌───┐     └───┘\n",
            "q_3: ┤ X ├──┼──┤ H ├──■────■──\n",
            "     └───┘  │  └───┘┌─┴─┐  │  \n",
            "q_4: ───────┼───────┤ X ├──┼──\n",
            "            │       └───┘┌─┴─┐\n",
            "q_5: ───────┼────────────┤ X ├\n",
            "          ┌─┴─┐┌───┐     └───┘\n",
            "q_6: ─────┤ X ├┤ H ├──■────■──\n",
            "          └───┘└───┘┌─┴─┐  │  \n",
            "q_7: ───────────────┤ X ├──┼──\n",
            "                    └───┘┌─┴─┐\n",
            "q_8: ────────────────────┤ X ├\n",
            "                         └───┘\n",
            "\n",
            "Simplified Shor QEC Circuit:\n",
            "     ┌───┐          ┌───┐           ░           ┌───┐          ┌─┐\n",
            "q_0: ┤ H ├──■────■──┤ H ├──■────■───░───■────■──┤ H ├──■────■──┤M├\n",
            "     └───┘  │    │  └───┘┌─┴─┐  │   ░   │  ┌─┴─┐└───┘  │    │  └╥┘\n",
            "q_1: ───────┼────┼───────┤ X ├──┼───░───┼──┤ X ├───────┼────┼───╫─\n",
            "            │    │       └───┘┌─┴─┐ ░ ┌─┴─┐└───┘       │    │   ║ \n",
            "q_2: ───────┼────┼────────────┤ X ├─░─┤ X ├────────────┼────┼───╫─\n",
            "          ┌─┴─┐  │  ┌───┐     └───┘ ░ └───┘     ┌───┐  │  ┌─┴─┐ ║ \n",
            "q_3: ─────┤ X ├──┼──┤ H ├──■────■───░───■────■──┤ H ├──┼──┤ X ├─╫─\n",
            "          └───┘  │  └───┘┌─┴─┐  │   ░   │  ┌─┴─┐└───┘  │  └───┘ ║ \n",
            "q_4: ────────────┼───────┤ X ├──┼───░───┼──┤ X ├───────┼────────╫─\n",
            "                 │       └───┘┌─┴─┐ ░ ┌─┴─┐└───┘       │        ║ \n",
            "q_5: ────────────┼────────────┤ X ├─░─┤ X ├────────────┼────────╫─\n",
            "               ┌─┴─┐┌───┐     └───┘ ░ └───┘     ┌───┐┌─┴─┐      ║ \n",
            "q_6: ──────────┤ X ├┤ H ├──■────■───░───■────■──┤ H ├┤ X ├──────╫─\n",
            "               └───┘└───┘┌─┴─┐  │   ░   │  ┌─┴─┐└───┘└───┘      ║ \n",
            "q_7: ────────────────────┤ X ├──┼───░───┼──┤ X ├────────────────╫─\n",
            "                         └───┘┌─┴─┐ ░ ┌─┴─┐└───┘                ║ \n",
            "q_8: ─────────────────────────┤ X ├─░─┤ X ├─────────────────────╫─\n",
            "                              └───┘ ░ └───┘                     ║ \n",
            "c: 1/═══════════════════════════════════════════════════════════╩═\n",
            "                                                                0 \n"
          ]
        }
      ]
    },
    {
      "cell_type": "markdown",
      "source": [
        "**Result**\n",
        "\n",
        "The implementation demonstrates the principle of quantum error correction using the 9-qubit with Shor’s code. Even though the syndrome extraction and correction are simplified, the results show improved stability of logical qubits under noise compared to unprotected qubits."
      ],
      "metadata": {
        "id": "n4NmPhnJkZJ4"
      }
    }
  ]
}