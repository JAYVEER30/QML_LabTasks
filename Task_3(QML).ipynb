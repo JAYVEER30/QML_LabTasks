{
  "nbformat": 4,
  "nbformat_minor": 0,
  "metadata": {
    "colab": {
      "provenance": [],
      "include_colab_link": true
    },
    "kernelspec": {
      "name": "python3",
      "display_name": "Python 3"
    },
    "language_info": {
      "name": "python"
    }
  },
  "cells": [
    {
      "cell_type": "markdown",
      "metadata": {
        "id": "view-in-github",
        "colab_type": "text"
      },
      "source": [
        "<a href=\"https://colab.research.google.com/github/JAYVEER30/QML_LabTasks/blob/main/Task_3(QML).ipynb\" target=\"_parent\"><img src=\"https://colab.research.google.com/assets/colab-badge.svg\" alt=\"Open In Colab\"/></a>"
      ]
    },
    {
      "cell_type": "markdown",
      "source": [
        "**TASK 3: Bell States and Entanglement Entropy**"
      ],
      "metadata": {
        "id": "HcpvP7R2g8Iu"
      }
    },
    {
      "cell_type": "markdown",
      "source": [
        "**Aim:**\n",
        "\n",
        "To construct Bell States via Tensor Products and Measuring Entanglement Entropy in Bipartite.\n",
        "\n",
        "Construct all four Bell states (|Φ⁺⟩, |Φ⁻⟩, |Ψ⁺⟩, |Ψ⁻⟩) using quantum gates (Hadamard and CNOT).\n",
        "\n",
        "Measure their entanglement entropy to verify that they are maximally entangled (entropy = 1).\n",
        "\n",
        "Compare with a product state (|00⟩) to confirm it has zero entanglement (entropy = 0)."
      ],
      "metadata": {
        "id": "3m0110ryhBY9"
      }
    },
    {
      "cell_type": "markdown",
      "source": [
        "**Mathematical Model**\n",
        "\n",
        "1.1 Quantum Gates Representation a. Hadamard Gate (H)  Transforms basis states: b. Identity Gate (I)  Leaves qubit states unchanged. c. CNOT Gate  Flips the target qubit if the control qubit is ∣1⟩.\n",
        "\n",
        "1.2 Bell States Construction Bell states are constructed by applying H to the first qubit followed by CNOT: a. |Φ ା ⟩  Constructed from ∣00⟩. b. |Φ ି ⟩  Constructed from ∣10⟩. c. |Ψ ା ⟩  Constructed from ∣01⟩. d. |Ψ ି ⟩  Constructed from ∣11⟩.\n",
        "\n",
        "1.3 Partial Trace Operation Given a density matrix ρ for a bipartite system A⊗B, the partial trace over subsystem B is where {∣k⟩B} is a basis for B.\n",
        "\n",
        "1.4 Entanglement Entropy (Von Neumann Entropy) For a pure bipartite state ∣ψ⟩AB, the entanglement entropy is the von Neumann entropy of the reduced density matrix ρA=TrB(∣ψ⟩⟨ψ∣). where λi are the eigenvalues of ρA"
      ],
      "metadata": {
        "id": "_TizqneIhLdN"
      }
    },
    {
      "cell_type": "markdown",
      "source": [
        "**2. Algorithm**\n",
        "\n",
        "\n",
        "1.Define quantum gates\n",
        "\n",
        "2.Create entangled Bell states using tensor products.\n",
        "\n",
        "3,Reshape the states for partial trace computation.\n",
        "\n",
        "4.Calculate entanglement entropy of bipartite state\n",
        "\n",
        "5.Compute eigenvalues (using eigh for Hermitian matrices)\n",
        "\n",
        "6.Compute von Neumann entropy."
      ],
      "metadata": {
        "id": "Z_4xFDUShTY8"
      }
    },
    {
      "cell_type": "markdown",
      "source": [
        "**3. Program:**"
      ],
      "metadata": {
        "id": "vXEeYsePha1D"
      }
    },
    {
      "cell_type": "code",
      "execution_count": null,
      "metadata": {
        "id": "F4P7CEvPRDSm",
        "colab": {
          "base_uri": "https://localhost:8080/"
        },
        "outputId": "4de7cc51-d578-40c3-b471-acc338db08e8"
      },
      "outputs": [
        {
          "output_type": "stream",
          "name": "stdout",
          "text": [
            "\n",
            "==================================================\n",
            "TASK 3: BELL STATES AND ENTANGLEMENT ENTROPY\n",
            "==================================================\n",
            "\n",
            "Bell state |Φ⁺⟩ = [0.70710678 0.         0.         0.70710678]\n",
            "Bell state |Φ⁻⟩ = [ 0.70710678  0.          0.         -0.70710678]\n",
            "Bell state |Ψ⁺⟩ = [0.         0.70710678 0.70710678 0.        ]\n",
            "Bell state |Ψ⁻⟩ = [ 0.          0.70710678 -0.70710678  0.        ]\n",
            "\n",
            "Entanglement entropy of |Φ⁺⟩: 1.0000\n",
            "Entanglement entropy of |Φ⁻⟩: 1.0000\n",
            "Entanglement entropy of |Ψ⁺⟩: 1.0000\n",
            "Entanglement entropy of |Ψ⁻⟩: 1.0000\n",
            "Entanglement entropy of |00⟩: 0.0000\n"
          ]
        }
      ],
      "source": [
        "import numpy as np\n",
        "from math import log2, sqrt\n",
        "\n",
        "print(\"\\n\" + \"=\" * 50)\n",
        "print(\"TASK 3: BELL STATES AND ENTANGLEMENT ENTROPY\")\n",
        "print(\"=\" * 50)\n",
        "\n",
        "\n",
        "H = 1 / sqrt(2) * np.array([[1, 1], [1, -1]])\n",
        "I = np.eye(2)\n",
        "CNOT = np.array([\n",
        "    [1, 0, 0, 0],\n",
        "    [0, 1, 0, 0],\n",
        "    [0, 0, 0, 1],\n",
        "    [0, 0, 1, 0]\n",
        "])\n",
        "\n",
        "class BellStates:\n",
        "    @staticmethod\n",
        "    def phi_plus():\n",
        "        \"\"\"Construct |Φ⁺⟩ = (|00⟩ + |11⟩)/√2\"\"\"\n",
        "        state = np.kron(np.array([1, 0]), np.array([1, 0]))\n",
        "        state = np.kron(H, I) @ state\n",
        "        return CNOT @ state\n",
        "\n",
        "    @staticmethod\n",
        "    def phi_minus():\n",
        "        \"\"\"Construct |Φ⁻⟩ = (|00⟩ - |11⟩)/√2\"\"\"\n",
        "        state = np.kron(np.array([1, 0]), np.array([1, 0]))\n",
        "        state = np.kron(H, I) @ state\n",
        "        state = CNOT @ state\n",
        "\n",
        "        state[3] *= -1\n",
        "        return state\n",
        "\n",
        "    @staticmethod\n",
        "    def psi_plus():\n",
        "        \"\"\"Construct |Ψ⁺⟩ = (|01⟩ + |10⟩)/√2\"\"\"\n",
        "        state = np.kron(np.array([1, 0]), np.array([0, 1]))  # |01⟩\n",
        "        state = np.kron(H, I) @ state\n",
        "        return CNOT @ state\n",
        "\n",
        "    @staticmethod\n",
        "    def psi_minus():\n",
        "        \"\"\"Construct |Ψ⁻⟩ = (|01⟩ - |10⟩)/√2\"\"\"\n",
        "        state = np.kron(np.array([1, 0]), np.array([0, 1]))  # |01⟩\n",
        "        state = np.kron(H, I) @ state\n",
        "        state = CNOT @ state\n",
        "\n",
        "        state[2] *= -1\n",
        "        return state\n",
        "\n",
        "\n",
        "def partial_trace(rho, dims, axis=0):\n",
        "    \"\"\"\n",
        "    Compute partial trace of density matrix rho\n",
        "    dims: list of dimensions of each subsystem [dA, dB]\n",
        "    axis: 0 for tracing out B, 1 for tracing out A\n",
        "    \"\"\"\n",
        "    dA, dB = dims\n",
        "    if axis == 0:\n",
        "        rho_reduced = np.zeros((dA, dA), dtype=complex)\n",
        "        for i in range(dA):\n",
        "            for j in range(dA):\n",
        "                for k in range(dB):\n",
        "                    rho_reduced[i, j] += rho[i * dB + k, j * dB + k]\n",
        "    else:\n",
        "        rho_reduced = np.zeros((dB, dB), dtype=complex)\n",
        "        for i in range(dB):\n",
        "            for j in range(dB):\n",
        "                for k in range(dA):\n",
        "                    rho_reduced[i, j] += rho[k * dB + i, k * dB + j]\n",
        "    return rho_reduced\n",
        "\n",
        "\n",
        "def entanglement_entropy(state):\n",
        "    \"\"\"\n",
        "    Calculate entanglement entropy of bipartite state\n",
        "    Input: state vector or density matrix\n",
        "    Output: entanglement entropy\n",
        "    \"\"\"\n",
        "\n",
        "    if state.ndim == 1:\n",
        "        rho = np.outer(state, state.conj())\n",
        "    else:\n",
        "        rho = state\n",
        "\n",
        "\n",
        "    rho_A = partial_trace(rho, [2, 2], axis=1)\n",
        "\n",
        "    eigvals = np.linalg.eigvalsh(rho_A)\n",
        "\n",
        "    entropy = 0.0\n",
        "    for lamda in eigvals:\n",
        "        if lamda > 1e-10:  # Avoid log(0)\n",
        "            entropy -= lamda * log2(lamda)\n",
        "\n",
        "    return entropy\n",
        "\n",
        "if __name__ == \"__main__\":\n",
        "\n",
        "    phi_p = BellStates.phi_plus()\n",
        "    phi_m = BellStates.phi_minus()\n",
        "    psi_p = BellStates.psi_plus()\n",
        "    psi_m = BellStates.psi_minus()\n",
        "\n",
        "    print(f\"\\nBell state |Φ⁺⟩ = {phi_p}\")\n",
        "    print(f\"Bell state |Φ⁻⟩ = {phi_m}\")\n",
        "    print(f\"Bell state |Ψ⁺⟩ = {psi_p}\")\n",
        "    print(f\"Bell state |Ψ⁻⟩ = {psi_m}\")\n",
        "\n",
        "    print(f\"\\nEntanglement entropy of |Φ⁺⟩: {entanglement_entropy(phi_p):.4f}\")\n",
        "    print(f\"Entanglement entropy of |Φ⁻⟩: {entanglement_entropy(phi_m):.4f}\")\n",
        "    print(f\"Entanglement entropy of |Ψ⁺⟩: {entanglement_entropy(psi_p):.4f}\")\n",
        "    print(f\"Entanglement entropy of |Ψ⁻⟩: {entanglement_entropy(psi_m):.4f}\")\n",
        "\n",
        "    product_state = np.kron(np.array([1, 0]), np.array([1, 0]))  # |00⟩\n",
        "    print(f\"Entanglement entropy of |00⟩: {entanglement_entropy(product_state):.4f}\")"
      ]
    },
    {
      "cell_type": "markdown",
      "source": [
        "**4.Result:**\n",
        "\n",
        "Bell states were constructed and their entanglement entropy was accurately calculated"
      ],
      "metadata": {
        "id": "0QGC44B-hfZQ"
      }
    }
  ]
}