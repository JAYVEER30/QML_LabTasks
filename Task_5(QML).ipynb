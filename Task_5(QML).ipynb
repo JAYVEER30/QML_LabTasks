{
  "nbformat": 4,
  "nbformat_minor": 0,
  "metadata": {
    "colab": {
      "provenance": [],
      "gpuType": "T4",
      "include_colab_link": true
    },
    "kernelspec": {
      "name": "python3",
      "display_name": "Python 3"
    },
    "language_info": {
      "name": "python"
    },
    "accelerator": "GPU"
  },
  "cells": [
    {
      "cell_type": "markdown",
      "metadata": {
        "id": "view-in-github",
        "colab_type": "text"
      },
      "source": [
        "<a href=\"https://colab.research.google.com/github/JAYVEER30/QML_LabTasks/blob/main/Task_5(QML).ipynb\" target=\"_parent\"><img src=\"https://colab.research.google.com/assets/colab-badge.svg\" alt=\"Open In Colab\"/></a>"
      ]
    },
    {
      "cell_type": "markdown",
      "source": [
        "**TASK 5: CNOT Gate and Quantum Teleportation**"
      ],
      "metadata": {
        "id": "oiL8DNc0pe6H"
      }
    },
    {
      "cell_type": "markdown",
      "source": [
        "**Aim:**\n",
        "\n",
        " To simulate a CNOT gate and implement a simplified quantum teleportation protocol using Qiskit"
      ],
      "metadata": {
        "id": "-XTUj3IYjKeJ"
      }
    },
    {
      "cell_type": "markdown",
      "source": [
        "**Mathematical Model of the CNOT Gate**\n",
        "\n",
        " The CNOT (Controlled-NOT) gate is a two-qubit quantum gate that flips the target qubit if and only if the control qubit is in state ∣1⟩.\n",
        "\n",
        " Computational basis ordering: ∣00⟩,∣01⟩,∣10⟩,∣11⟩ with first qubit = control(q0), second qubit = target(q1).\n",
        "\n",
        "1.1 Matrix Representation The CNOT gate is represented by the following unitary matrix\n",
        "\n",
        "1.2 CNOT Gate Truth Table\n",
        "\n",
        "1.3 Effect on Basis States  If control = |0⟩, target remains unchanged.  If control = |1⟩, target flips (X-gate applied)."
      ],
      "metadata": {
        "id": "E27Y3cSBjS63"
      }
    },
    {
      "cell_type": "markdown",
      "source": [
        "**Algorithm for CNOT Gate Implementation**\n",
        "\n",
        "Initialize a quantum circuit with 2 qubits and 2 classical bits\n",
        "\n",
        "Prepare input states (e.g., test all possible combinations: |00⟩, |01⟩, |10⟩, |11⟩).\n",
        "\n",
        "Apply CNOT gate (control qubit = q0, target qubit = q1).\n",
        "\n",
        "Measure the qubits and store results in classical bits.\n",
        "\n",
        "Simulate the circuit using Qiskit’s Aer simulator.\n",
        "\n",
        "Plot the measurement outcomes"
      ],
      "metadata": {
        "id": "4i1spO4VjYX5"
      }
    },
    {
      "cell_type": "markdown",
      "source": [
        "**Program:**"
      ],
      "metadata": {
        "id": "_DDPDBPljnCo"
      }
    },
    {
      "cell_type": "code",
      "source": [
        "!pip install qiskit\n",
        "!pip install qiskit_aer"
      ],
      "metadata": {
        "colab": {
          "base_uri": "https://localhost:8080/"
        },
        "id": "jQBxSWwgqQTk",
        "outputId": "0352f7b7-cf78-4e20-ee8e-7d236a6fef22"
      },
      "execution_count": null,
      "outputs": [
        {
          "output_type": "stream",
          "name": "stdout",
          "text": [
            "Requirement already satisfied: qiskit in /usr/local/lib/python3.11/dist-packages (2.1.1)\n",
            "Requirement already satisfied: rustworkx>=0.15.0 in /usr/local/lib/python3.11/dist-packages (from qiskit) (0.17.1)\n",
            "Requirement already satisfied: numpy<3,>=1.17 in /usr/local/lib/python3.11/dist-packages (from qiskit) (2.0.2)\n",
            "Requirement already satisfied: scipy>=1.5 in /usr/local/lib/python3.11/dist-packages (from qiskit) (1.16.1)\n",
            "Requirement already satisfied: dill>=0.3 in /usr/local/lib/python3.11/dist-packages (from qiskit) (0.3.8)\n",
            "Requirement already satisfied: stevedore>=3.0.0 in /usr/local/lib/python3.11/dist-packages (from qiskit) (5.4.1)\n",
            "Requirement already satisfied: typing-extensions in /usr/local/lib/python3.11/dist-packages (from qiskit) (4.14.1)\n",
            "Requirement already satisfied: pbr>=2.0.0 in /usr/local/lib/python3.11/dist-packages (from stevedore>=3.0.0->qiskit) (7.0.0)\n",
            "Requirement already satisfied: setuptools in /usr/local/lib/python3.11/dist-packages (from pbr>=2.0.0->stevedore>=3.0.0->qiskit) (75.2.0)\n",
            "Requirement already satisfied: qiskit_aer in /usr/local/lib/python3.11/dist-packages (0.17.1)\n",
            "Requirement already satisfied: qiskit>=1.1.0 in /usr/local/lib/python3.11/dist-packages (from qiskit_aer) (2.1.1)\n",
            "Requirement already satisfied: numpy>=1.16.3 in /usr/local/lib/python3.11/dist-packages (from qiskit_aer) (2.0.2)\n",
            "Requirement already satisfied: scipy>=1.0 in /usr/local/lib/python3.11/dist-packages (from qiskit_aer) (1.16.1)\n",
            "Requirement already satisfied: psutil>=5 in /usr/local/lib/python3.11/dist-packages (from qiskit_aer) (5.9.5)\n",
            "Requirement already satisfied: python-dateutil>=2.8.0 in /usr/local/lib/python3.11/dist-packages (from qiskit_aer) (2.9.0.post0)\n",
            "Requirement already satisfied: six>=1.5 in /usr/local/lib/python3.11/dist-packages (from python-dateutil>=2.8.0->qiskit_aer) (1.17.0)\n",
            "Requirement already satisfied: rustworkx>=0.15.0 in /usr/local/lib/python3.11/dist-packages (from qiskit>=1.1.0->qiskit_aer) (0.17.1)\n",
            "Requirement already satisfied: dill>=0.3 in /usr/local/lib/python3.11/dist-packages (from qiskit>=1.1.0->qiskit_aer) (0.3.8)\n",
            "Requirement already satisfied: stevedore>=3.0.0 in /usr/local/lib/python3.11/dist-packages (from qiskit>=1.1.0->qiskit_aer) (5.4.1)\n",
            "Requirement already satisfied: typing-extensions in /usr/local/lib/python3.11/dist-packages (from qiskit>=1.1.0->qiskit_aer) (4.14.1)\n",
            "Requirement already satisfied: pbr>=2.0.0 in /usr/local/lib/python3.11/dist-packages (from stevedore>=3.0.0->qiskit>=1.1.0->qiskit_aer) (7.0.0)\n",
            "Requirement already satisfied: setuptools in /usr/local/lib/python3.11/dist-packages (from pbr>=2.0.0->stevedore>=3.0.0->qiskit>=1.1.0->qiskit_aer) (75.2.0)\n"
          ]
        }
      ]
    },
    {
      "cell_type": "code",
      "source": [
        "from qiskit import QuantumCircuit\n",
        "from qiskit_aer import Aer\n",
        "from qiskit.visualization import plot_histogram\n",
        "import matplotlib.pyplot as plt\n",
        "\n",
        "def cnot_circuit(input_state):\n",
        "    qc = QuantumCircuit(2, 2)\n",
        "\n",
        "    if input_state[0] == '1':\n",
        "        qc.x(0)\n",
        "    if input_state[1] == '1':\n",
        "        qc.x(1)\n",
        "\n",
        "    qc.cx(0, 1)\n",
        "\n",
        "    qc.measure([0, 1], [0, 1])\n",
        "\n",
        "    simulator = Aer.get_backend('qasm_simulator')\n",
        "    result = simulator.run(qc, shots=1000).result()\n",
        "    counts = result.get_counts(qc)\n",
        "\n",
        "    print(f\"\\nCNOT Gate Test | Input: |{input_state}⟩\")\n",
        "    print(\"Circuit Diagram:\")\n",
        "    print(qc.draw(output='text'))\n",
        "\n",
        "    plot_histogram(counts)\n",
        "    plt.show()\n",
        "\n",
        "for state in ['00', '01', '10', '11']:\n",
        "    cnot_circuit(state)\n"
      ],
      "metadata": {
        "colab": {
          "base_uri": "https://localhost:8080/"
        },
        "id": "zZfPpHSVpfYR",
        "outputId": "31a7f25f-2c85-4650-c8d7-6994610c5e10"
      },
      "execution_count": null,
      "outputs": [
        {
          "output_type": "stream",
          "name": "stdout",
          "text": [
            "\n",
            "CNOT Gate Test | Input: |00⟩\n",
            "Circuit Diagram:\n",
            "          ┌─┐   \n",
            "q_0: ──■──┤M├───\n",
            "     ┌─┴─┐└╥┘┌─┐\n",
            "q_1: ┤ X ├─╫─┤M├\n",
            "     └───┘ ║ └╥┘\n",
            "c: 2/══════╩══╩═\n",
            "           0  1 \n",
            "\n",
            "CNOT Gate Test | Input: |01⟩\n",
            "Circuit Diagram:\n",
            "               ┌─┐   \n",
            "q_0: ───────■──┤M├───\n",
            "     ┌───┐┌─┴─┐└╥┘┌─┐\n",
            "q_1: ┤ X ├┤ X ├─╫─┤M├\n",
            "     └───┘└───┘ ║ └╥┘\n",
            "c: 2/═══════════╩══╩═\n",
            "                0  1 \n",
            "\n",
            "CNOT Gate Test | Input: |10⟩\n",
            "Circuit Diagram:\n",
            "     ┌───┐     ┌─┐   \n",
            "q_0: ┤ X ├──■──┤M├───\n",
            "     └───┘┌─┴─┐└╥┘┌─┐\n",
            "q_1: ─────┤ X ├─╫─┤M├\n",
            "          └───┘ ║ └╥┘\n",
            "c: 2/═══════════╩══╩═\n",
            "                0  1 \n",
            "\n",
            "CNOT Gate Test | Input: |11⟩\n",
            "Circuit Diagram:\n",
            "     ┌───┐     ┌─┐   \n",
            "q_0: ┤ X ├──■──┤M├───\n",
            "     ├───┤┌─┴─┐└╥┘┌─┐\n",
            "q_1: ┤ X ├┤ X ├─╫─┤M├\n",
            "     └───┘└───┘ ║ └╥┘\n",
            "c: 2/═══════════╩══╩═\n",
            "                0  1 \n"
          ]
        }
      ]
    },
    {
      "cell_type": "markdown",
      "source": [
        "*** Quantum Teleportation Implementation ***+"
      ],
      "metadata": {
        "id": "m2bUyiGKqWuj"
      }
    },
    {
      "cell_type": "code",
      "source": [
        "from qiskit import QuantumCircuit\n",
        "from qiskit_aer import Aer\n",
        "from qiskit.visualization import plot_histogram\n",
        "import matplotlib.pyplot as plt\n",
        "\n",
        "qc = QuantumCircuit(3, 2)\n",
        "\n",
        "qc.x(0)\n",
        "qc.barrier()\n",
        "\n",
        "qc.h(1)\n",
        "qc.cx(1, 2)\n",
        "qc.barrier()\n",
        "\n",
        "qc.cx(0, 1)\n",
        "qc.h(0)\n",
        "qc.barrier()\n",
        "\n",
        "qc.measure([0, 1], [0, 1])\n",
        "qc.barrier()\n",
        "\n",
        "qc.cx(1, 2)\n",
        "qc.cz(0, 2)\n",
        "\n",
        "qc.measure(2, 0)\n",
        "\n",
        "print(\"Teleportation Circuit:\")\n",
        "print(qc.draw(output='text'))\n",
        "\n",
        "simulator = Aer.get_backend('qasm_simulator')\n",
        "result = simulator.run(qc, shots=1000).result()\n",
        "counts = result.get_counts(qc)\n",
        "\n",
        "print(\"\\nMeasurement results:\")\n",
        "print(counts)\n",
        "plot_histogram(counts)\n",
        "plt.show()\n"
      ],
      "metadata": {
        "colab": {
          "base_uri": "https://localhost:8080/"
        },
        "id": "4L-MOwCFqXK-",
        "outputId": "bc8a5f00-9681-430e-abb5-edc8fa08b78d"
      },
      "execution_count": null,
      "outputs": [
        {
          "output_type": "stream",
          "name": "stdout",
          "text": [
            "Teleportation Circuit:\n",
            "     ┌───┐ ░            ░      ┌───┐ ░ ┌─┐    ░            \n",
            "q_0: ┤ X ├─░────────────░───■──┤ H ├─░─┤M├────░───────■────\n",
            "     └───┘ ░ ┌───┐      ░ ┌─┴─┐└───┘ ░ └╥┘┌─┐ ░       │    \n",
            "q_1: ──────░─┤ H ├──■───░─┤ X ├──────░──╫─┤M├─░───■───┼────\n",
            "           ░ └───┘┌─┴─┐ ░ └───┘      ░  ║ └╥┘ ░ ┌─┴─┐ │ ┌─┐\n",
            "q_2: ──────░──────┤ X ├─░────────────░──╫──╫──░─┤ X ├─■─┤M├\n",
            "           ░      └───┘ ░            ░  ║  ║  ░ └───┘   └╥┘\n",
            "c: 2/═══════════════════════════════════╩══╩═════════════╩═\n",
            "                                        0  1             0 \n",
            "\n",
            "Measurement results:\n",
            "{'01': 498, '11': 502}\n"
          ]
        }
      ]
    },
    {
      "cell_type": "markdown",
      "source": [
        "**Result:**\n",
        "\n",
        "This work illustrates the implementation, simulation, and verification of the CNOT gate using Qiskit, followed by the construction of a complete quantum teleportation protocol. The protocol is validated through simulation, confirming the accurate transfer of an arbitrary quantum state using entanglement and classical communication."
      ],
      "metadata": {
        "id": "RBp-N3QajrtW"
      }
    }
  ]
}